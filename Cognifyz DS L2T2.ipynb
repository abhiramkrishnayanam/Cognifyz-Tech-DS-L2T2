{
 "cells": [
  {
   "cell_type": "markdown",
   "id": "18071fb8-a8fa-4765-8b3a-242efc573f00",
   "metadata": {},
   "source": [
    "<h2 style=\"color: blue; text-align: center; font-size: 30px;\"><b>Task: Price Range Analysis</b></h2>\n",
    "<h4 style=\"color: blue; text-align: center; font-size: 30px;\"><b>Level 2 : Task 2</b></h4>"
   ]
  },
  {
   "cell_type": "code",
   "execution_count": 2,
   "id": "a142a291-19d6-480e-a6e0-ceee9f397360",
   "metadata": {},
   "outputs": [],
   "source": [
    "import pandas as pd\n",
    "import numpy as np\n",
    "import warnings\n",
    "warnings.simplefilter(\"ignore\")"
   ]
  },
  {
   "cell_type": "code",
   "execution_count": 4,
   "id": "6b9d7693-d9e0-4184-81e2-faf08ca95885",
   "metadata": {},
   "outputs": [],
   "source": [
    "df=pd.read_csv(\"Dataset1.csv\")"
   ]
  },
  {
   "cell_type": "code",
   "execution_count": 8,
   "id": "2a736c41-d683-4bf8-be01-335703a88733",
   "metadata": {},
   "outputs": [
    {
     "data": {
      "text/html": [
       "<div>\n",
       "<style scoped>\n",
       "    .dataframe tbody tr th:only-of-type {\n",
       "        vertical-align: middle;\n",
       "    }\n",
       "\n",
       "    .dataframe tbody tr th {\n",
       "        vertical-align: top;\n",
       "    }\n",
       "\n",
       "    .dataframe thead th {\n",
       "        text-align: right;\n",
       "    }\n",
       "</style>\n",
       "<table border=\"1\" class=\"dataframe\">\n",
       "  <thead>\n",
       "    <tr style=\"text-align: right;\">\n",
       "      <th></th>\n",
       "      <th>Restaurant ID</th>\n",
       "      <th>Restaurant Name</th>\n",
       "      <th>Country Code</th>\n",
       "      <th>City</th>\n",
       "      <th>Address</th>\n",
       "      <th>Locality</th>\n",
       "      <th>Locality Verbose</th>\n",
       "      <th>Longitude</th>\n",
       "      <th>Latitude</th>\n",
       "      <th>Cuisines</th>\n",
       "      <th>...</th>\n",
       "      <th>Currency</th>\n",
       "      <th>Has Table booking</th>\n",
       "      <th>Has Online delivery</th>\n",
       "      <th>Is delivering now</th>\n",
       "      <th>Switch to order menu</th>\n",
       "      <th>Price range</th>\n",
       "      <th>Aggregate rating</th>\n",
       "      <th>Rating color</th>\n",
       "      <th>Rating text</th>\n",
       "      <th>Votes</th>\n",
       "    </tr>\n",
       "  </thead>\n",
       "  <tbody>\n",
       "    <tr>\n",
       "      <th>0</th>\n",
       "      <td>6317637</td>\n",
       "      <td>Le Petit Souffle</td>\n",
       "      <td>162</td>\n",
       "      <td>Makati City</td>\n",
       "      <td>Third Floor, Century City Mall, Kalayaan Avenu...</td>\n",
       "      <td>Century City Mall, Poblacion, Makati City</td>\n",
       "      <td>Century City Mall, Poblacion, Makati City, Mak...</td>\n",
       "      <td>121.027535</td>\n",
       "      <td>14.565443</td>\n",
       "      <td>French, Japanese, Desserts</td>\n",
       "      <td>...</td>\n",
       "      <td>Botswana Pula(P)</td>\n",
       "      <td>Yes</td>\n",
       "      <td>No</td>\n",
       "      <td>No</td>\n",
       "      <td>No</td>\n",
       "      <td>3</td>\n",
       "      <td>4.8</td>\n",
       "      <td>Dark Green</td>\n",
       "      <td>Excellent</td>\n",
       "      <td>314</td>\n",
       "    </tr>\n",
       "    <tr>\n",
       "      <th>1</th>\n",
       "      <td>6304287</td>\n",
       "      <td>Izakaya Kikufuji</td>\n",
       "      <td>162</td>\n",
       "      <td>Makati City</td>\n",
       "      <td>Little Tokyo, 2277 Chino Roces Avenue, Legaspi...</td>\n",
       "      <td>Little Tokyo, Legaspi Village, Makati City</td>\n",
       "      <td>Little Tokyo, Legaspi Village, Makati City, Ma...</td>\n",
       "      <td>121.014101</td>\n",
       "      <td>14.553708</td>\n",
       "      <td>Japanese</td>\n",
       "      <td>...</td>\n",
       "      <td>Botswana Pula(P)</td>\n",
       "      <td>Yes</td>\n",
       "      <td>No</td>\n",
       "      <td>No</td>\n",
       "      <td>No</td>\n",
       "      <td>3</td>\n",
       "      <td>4.5</td>\n",
       "      <td>Dark Green</td>\n",
       "      <td>Excellent</td>\n",
       "      <td>591</td>\n",
       "    </tr>\n",
       "  </tbody>\n",
       "</table>\n",
       "<p>2 rows × 21 columns</p>\n",
       "</div>"
      ],
      "text/plain": [
       "   Restaurant ID   Restaurant Name  Country Code         City  \\\n",
       "0        6317637  Le Petit Souffle           162  Makati City   \n",
       "1        6304287  Izakaya Kikufuji           162  Makati City   \n",
       "\n",
       "                                             Address  \\\n",
       "0  Third Floor, Century City Mall, Kalayaan Avenu...   \n",
       "1  Little Tokyo, 2277 Chino Roces Avenue, Legaspi...   \n",
       "\n",
       "                                     Locality  \\\n",
       "0   Century City Mall, Poblacion, Makati City   \n",
       "1  Little Tokyo, Legaspi Village, Makati City   \n",
       "\n",
       "                                    Locality Verbose   Longitude   Latitude  \\\n",
       "0  Century City Mall, Poblacion, Makati City, Mak...  121.027535  14.565443   \n",
       "1  Little Tokyo, Legaspi Village, Makati City, Ma...  121.014101  14.553708   \n",
       "\n",
       "                     Cuisines  ...          Currency Has Table booking  \\\n",
       "0  French, Japanese, Desserts  ...  Botswana Pula(P)               Yes   \n",
       "1                    Japanese  ...  Botswana Pula(P)               Yes   \n",
       "\n",
       "  Has Online delivery Is delivering now Switch to order menu Price range  \\\n",
       "0                  No                No                   No           3   \n",
       "1                  No                No                   No           3   \n",
       "\n",
       "   Aggregate rating  Rating color Rating text Votes  \n",
       "0               4.8    Dark Green   Excellent   314  \n",
       "1               4.5    Dark Green   Excellent   591  \n",
       "\n",
       "[2 rows x 21 columns]"
      ]
     },
     "execution_count": 8,
     "metadata": {},
     "output_type": "execute_result"
    }
   ],
   "source": [
    "df.head(2)"
   ]
  },
  {
   "cell_type": "markdown",
   "id": "d67875cc-57e9-4540-8292-dcac548c8aec",
   "metadata": {},
   "source": [
    "### 1. Determine the most common price range among all the restaurants."
   ]
  },
  {
   "cell_type": "code",
   "execution_count": 17,
   "id": "602427d5-5170-43cd-9819-9433d57635d6",
   "metadata": {},
   "outputs": [
    {
     "name": "stdout",
     "output_type": "stream",
     "text": [
      "The most common price range is '1', appearing 4444 times.\n"
     ]
    }
   ],
   "source": [
    "# Analyzing the most common price range\n",
    "most_common_price_range = df['Price range'].value_counts().idxmax() #.idxmax() retrieves the price range with the highest count.\n",
    "most_common_count = df['Price range'].value_counts().max()\n",
    "\n",
    "print(f\"The most common price range is '{most_common_price_range}', appearing {most_common_count} times.\")"
   ]
  },
  {
   "cell_type": "markdown",
   "id": "1a4169c0-57e7-4181-9042-762ff8ce2ef6",
   "metadata": {},
   "source": [
    "### 2. Calculate the average rating for each price range."
   ]
  },
  {
   "cell_type": "code",
   "execution_count": 22,
   "id": "43c301e7-a402-40b2-b9eb-846866b9c5a6",
   "metadata": {},
   "outputs": [
    {
     "name": "stdout",
     "output_type": "stream",
     "text": [
      "The average rating for each price range: \n"
     ]
    },
    {
     "data": {
      "text/plain": [
       "Price range\n",
       "1    1.999887\n",
       "2    2.941054\n",
       "3    3.683381\n",
       "4    3.817918\n",
       "Name: Aggregate rating, dtype: float64"
      ]
     },
     "execution_count": 22,
     "metadata": {},
     "output_type": "execute_result"
    }
   ],
   "source": [
    "average_rating_per_price_range=df.groupby('Price range')['Aggregate rating'].mean()\n",
    "print(\"The average rating for each price range: \")\n",
    "average_rating_per_price_range"
   ]
  },
  {
   "cell_type": "markdown",
   "id": "a2d719df-711a-4583-95e5-ab6b07428c0d",
   "metadata": {},
   "source": [
    "### 3. Identify the color that represents the highest average rating among different price ranges."
   ]
  },
  {
   "cell_type": "code",
   "execution_count": 29,
   "id": "992d5c01-d3ac-4fb9-b86a-fadb9bd062a8",
   "metadata": {},
   "outputs": [
    {
     "name": "stdout",
     "output_type": "stream",
     "text": [
      "The color representing the highest average rating is: Green\n"
     ]
    }
   ],
   "source": [
    "# Calculate the average rating for each price range\n",
    "average_rating_per_price_range = df.groupby('Price range', as_index=False).agg({\n",
    "    'Aggregate rating': 'mean',\n",
    "    'Rating color': 'first'  # Assuming each price range has one main color\n",
    "})\n",
    "\n",
    "# Find the price range with the highest average rating\n",
    "highest_avg_rating_row = average_rating_per_price_range.loc[\n",
    " average_rating_per_price_range['Aggregate rating'].idxmax()\n",
    "]\n",
    "# Extract the color associated with the highest average rating\n",
    "color_with_highest_avg_rating = highest_avg_rating_row['Rating color']\n",
    "print(f\"The color representing the highest average rating is: {color_with_highest_avg_rating}\")"
   ]
  },
  {
   "cell_type": "code",
   "execution_count": null,
   "id": "fa1de9d5-544e-4d96-bca5-74e2d062c476",
   "metadata": {},
   "outputs": [],
   "source": [
    "# agg():\n",
    "# Aggregate rating: 'mean': Computes the average of the Aggregate rating for each price range.\n",
    "# Rating color: 'first': Selects the first Rating color encountered within each price range group."
   ]
  }
 ],
 "metadata": {
  "kernelspec": {
   "display_name": "Python [conda env:base] *",
   "language": "python",
   "name": "conda-base-py"
  },
  "language_info": {
   "codemirror_mode": {
    "name": "ipython",
    "version": 3
   },
   "file_extension": ".py",
   "mimetype": "text/x-python",
   "name": "python",
   "nbconvert_exporter": "python",
   "pygments_lexer": "ipython3",
   "version": "3.12.7"
  }
 },
 "nbformat": 4,
 "nbformat_minor": 5
}
